{
 "cells": [
  {
   "cell_type": "code",
   "execution_count": 27,
   "metadata": {},
   "outputs": [],
   "source": [
    "import pandas as pd\n",
    "import seaborn as sns\n",
    "import numpy as np\n",
    "import matplotlib.pyplot as plt\n",
    "%matplotlib inline"
   ]
  },
  {
   "cell_type": "code",
   "execution_count": 2,
   "metadata": {},
   "outputs": [],
   "source": [
    "train=pd.read_csv(r'G:\\Edvancer\\Python module\\Project\\project3\\counterfeit_train.csv')"
   ]
  },
  {
   "cell_type": "code",
   "execution_count": 3,
   "metadata": {},
   "outputs": [],
   "source": [
    "test=pd.read_csv(r'G:\\Edvancer\\Python module\\Project\\project3\\counterfeit_test.csv')"
   ]
  },
  {
   "cell_type": "code",
   "execution_count": 7,
   "metadata": {},
   "outputs": [
    {
     "data": {
      "text/html": [
       "<div>\n",
       "<style scoped>\n",
       "    .dataframe tbody tr th:only-of-type {\n",
       "        vertical-align: middle;\n",
       "    }\n",
       "\n",
       "    .dataframe tbody tr th {\n",
       "        vertical-align: top;\n",
       "    }\n",
       "\n",
       "    .dataframe thead th {\n",
       "        text-align: right;\n",
       "    }\n",
       "</style>\n",
       "<table border=\"1\" class=\"dataframe\">\n",
       "  <thead>\n",
       "    <tr style=\"text-align: right;\">\n",
       "      <th></th>\n",
       "      <th>Medicine_ID</th>\n",
       "      <th>Counterfeit_Weight</th>\n",
       "      <th>DistArea_ID</th>\n",
       "      <th>Active_Since</th>\n",
       "      <th>Medicine_MRP</th>\n",
       "      <th>Medicine_Type</th>\n",
       "      <th>SidEffect_Level</th>\n",
       "      <th>Availability_rating</th>\n",
       "      <th>Area_Type</th>\n",
       "      <th>Area_City_Type</th>\n",
       "      <th>Area_dist_level</th>\n",
       "      <th>Counterfeit_Sales</th>\n",
       "    </tr>\n",
       "  </thead>\n",
       "  <tbody>\n",
       "    <tr>\n",
       "      <th>0</th>\n",
       "      <td>RRA15</td>\n",
       "      <td>13.100</td>\n",
       "      <td>Area046</td>\n",
       "      <td>1995</td>\n",
       "      <td>160.2366</td>\n",
       "      <td>Antimalarial</td>\n",
       "      <td>critical</td>\n",
       "      <td>0.070422</td>\n",
       "      <td>DownTown</td>\n",
       "      <td>Tier 1</td>\n",
       "      <td>Small</td>\n",
       "      <td>1775.5026</td>\n",
       "    </tr>\n",
       "    <tr>\n",
       "      <th>1</th>\n",
       "      <td>YVV26</td>\n",
       "      <td>NaN</td>\n",
       "      <td>Area027</td>\n",
       "      <td>1983</td>\n",
       "      <td>110.4384</td>\n",
       "      <td>Mstablizers</td>\n",
       "      <td>mild</td>\n",
       "      <td>0.013000</td>\n",
       "      <td>CityLimits</td>\n",
       "      <td>Tier 3</td>\n",
       "      <td>Medium</td>\n",
       "      <td>3069.1520</td>\n",
       "    </tr>\n",
       "    <tr>\n",
       "      <th>2</th>\n",
       "      <td>LJC15</td>\n",
       "      <td>9.025</td>\n",
       "      <td>Area046</td>\n",
       "      <td>1995</td>\n",
       "      <td>259.4092</td>\n",
       "      <td>Cardiac</td>\n",
       "      <td>mild</td>\n",
       "      <td>0.060783</td>\n",
       "      <td>DownTown</td>\n",
       "      <td>Tier 1</td>\n",
       "      <td>Small</td>\n",
       "      <td>2603.0920</td>\n",
       "    </tr>\n",
       "    <tr>\n",
       "      <th>3</th>\n",
       "      <td>GWC40</td>\n",
       "      <td>11.800</td>\n",
       "      <td>Area046</td>\n",
       "      <td>1995</td>\n",
       "      <td>99.9830</td>\n",
       "      <td>OralContraceptives</td>\n",
       "      <td>mild</td>\n",
       "      <td>0.065555</td>\n",
       "      <td>DownTown</td>\n",
       "      <td>Tier 1</td>\n",
       "      <td>Small</td>\n",
       "      <td>1101.7130</td>\n",
       "    </tr>\n",
       "    <tr>\n",
       "      <th>4</th>\n",
       "      <td>QMN13</td>\n",
       "      <td>NaN</td>\n",
       "      <td>Area019</td>\n",
       "      <td>1983</td>\n",
       "      <td>56.4402</td>\n",
       "      <td>Hreplacements</td>\n",
       "      <td>critical</td>\n",
       "      <td>0.248859</td>\n",
       "      <td>MidTownResidential</td>\n",
       "      <td>Tier 1</td>\n",
       "      <td>Small</td>\n",
       "      <td>158.9402</td>\n",
       "    </tr>\n",
       "  </tbody>\n",
       "</table>\n",
       "</div>"
      ],
      "text/plain": [
       "  Medicine_ID  Counterfeit_Weight DistArea_ID  Active_Since  Medicine_MRP  \\\n",
       "0       RRA15              13.100     Area046          1995      160.2366   \n",
       "1       YVV26                 NaN     Area027          1983      110.4384   \n",
       "2       LJC15               9.025     Area046          1995      259.4092   \n",
       "3       GWC40              11.800     Area046          1995       99.9830   \n",
       "4       QMN13                 NaN     Area019          1983       56.4402   \n",
       "\n",
       "        Medicine_Type SidEffect_Level  Availability_rating  \\\n",
       "0        Antimalarial        critical             0.070422   \n",
       "1         Mstablizers            mild             0.013000   \n",
       "2             Cardiac            mild             0.060783   \n",
       "3  OralContraceptives            mild             0.065555   \n",
       "4       Hreplacements        critical             0.248859   \n",
       "\n",
       "            Area_Type Area_City_Type Area_dist_level  Counterfeit_Sales  \n",
       "0            DownTown         Tier 1           Small          1775.5026  \n",
       "1          CityLimits         Tier 3          Medium          3069.1520  \n",
       "2            DownTown         Tier 1           Small          2603.0920  \n",
       "3            DownTown         Tier 1           Small          1101.7130  \n",
       "4  MidTownResidential         Tier 1           Small           158.9402  "
      ]
     },
     "execution_count": 7,
     "metadata": {},
     "output_type": "execute_result"
    }
   ],
   "source": [
    "train.head()"
   ]
  },
  {
   "cell_type": "code",
   "execution_count": 8,
   "metadata": {},
   "outputs": [
    {
     "data": {
      "text/plain": [
       "14.32860440340908"
      ]
     },
     "execution_count": 8,
     "metadata": {},
     "output_type": "execute_result"
    }
   ],
   "source": [
    "test['Counterfeit_Weight'].mean()"
   ]
  },
  {
   "cell_type": "markdown",
   "metadata": {},
   "source": [
    "## Splitting train dataset further so that we can test our model there"
   ]
  },
  {
   "cell_type": "code",
   "execution_count": 14,
   "metadata": {},
   "outputs": [],
   "source": [
    "from sklearn.model_selection import train_test_split\n",
    "df_train,df_test=train_test_split(train,test_size=0.2,random_state=1)"
   ]
  },
  {
   "cell_type": "code",
   "execution_count": 15,
   "metadata": {},
   "outputs": [],
   "source": [
    "x_train=df_train.drop('Counterfeit_Sales',axis=1)\n",
    "y_train=df_train['Counterfeit_Sales']\n",
    "x_test=df_test.drop('Counterfeit_Sales',axis=1)\n",
    "y_test=df_test['Counterfeit_Sales']"
   ]
  },
  {
   "cell_type": "markdown",
   "metadata": {},
   "source": [
    "# EDA"
   ]
  },
  {
   "cell_type": "code",
   "execution_count": 13,
   "metadata": {},
   "outputs": [
    {
     "name": "stdout",
     "output_type": "stream",
     "text": [
      "(6818, 12) (1705, 11)\n"
     ]
    }
   ],
   "source": [
    "print(train.shape,test.shape)"
   ]
  },
  {
   "cell_type": "code",
   "execution_count": 4,
   "metadata": {},
   "outputs": [
    {
     "data": {
      "text/plain": [
       "Medicine_ID               0\n",
       "Counterfeit_Weight     1166\n",
       "DistArea_ID               0\n",
       "Active_Since              0\n",
       "Medicine_MRP              0\n",
       "Medicine_Type             0\n",
       "SidEffect_Level           0\n",
       "Availability_rating       0\n",
       "Area_Type                 0\n",
       "Area_City_Type            0\n",
       "Area_dist_level           0\n",
       "Counterfeit_Sales         0\n",
       "dtype: int64"
      ]
     },
     "execution_count": 4,
     "metadata": {},
     "output_type": "execute_result"
    }
   ],
   "source": [
    "train.isnull().sum()"
   ]
  },
  {
   "cell_type": "code",
   "execution_count": 8,
   "metadata": {},
   "outputs": [
    {
     "data": {
      "text/plain": [
       "Medicine_ID              0\n",
       "Counterfeit_Weight     297\n",
       "DistArea_ID              0\n",
       "Active_Since             0\n",
       "Medicine_MRP             0\n",
       "Medicine_Type            0\n",
       "SidEffect_Level          0\n",
       "Availability_rating      0\n",
       "Area_Type                0\n",
       "Area_City_Type           0\n",
       "Area_dist_level          0\n",
       "dtype: int64"
      ]
     },
     "execution_count": 8,
     "metadata": {},
     "output_type": "execute_result"
    }
   ],
   "source": [
    "test.isnull().sum() #The actual test dataset"
   ]
  },
  {
   "cell_type": "code",
   "execution_count": 16,
   "metadata": {},
   "outputs": [
    {
     "name": "stdout",
     "output_type": "stream",
     "text": [
      "14.111170801949946 13.8\n"
     ]
    }
   ],
   "source": [
    "print(x_train['Counterfeit_Weight'].mean(),x_train['Counterfeit_Weight'].median())"
   ]
  },
  {
   "cell_type": "code",
   "execution_count": 20,
   "metadata": {},
   "outputs": [
    {
     "name": "stdout",
     "output_type": "stream",
     "text": [
      "Medicine_ID object 1541\n",
      "Counterfeit_Weight float64 408\n",
      "DistArea_ID object 10\n",
      "Active_Since int64 9\n",
      "Medicine_MRP float64 4311\n",
      "Medicine_Type object 16\n",
      "SidEffect_Level object 2\n",
      "Availability_rating float64 5068\n",
      "Area_Type object 4\n",
      "Area_City_Type object 3\n",
      "Area_dist_level object 4\n"
     ]
    }
   ],
   "source": [
    "for i in x_train.columns:\n",
    "    print(i,x_train[i].dtypes,x_train[i].nunique())"
   ]
  },
  {
   "cell_type": "code",
   "execution_count": 37,
   "metadata": {},
   "outputs": [
    {
     "data": {
      "text/plain": [
       "Hreplacements         797\n",
       "Antibiotics           774\n",
       "OralContraceptives    573\n",
       "Antiseptics           549\n",
       "Antipyretics          426\n",
       "Cardiac               420\n",
       "Mstablizers           408\n",
       "Tranquilizers         339\n",
       "Antimalarial          277\n",
       "Analgesics            272\n",
       "Antacids              163\n",
       "Statins               140\n",
       "MuscleRelaxants       115\n",
       "Antifungal             84\n",
       "Stimulants             77\n",
       "Antiviral              40\n",
       "Name: Medicine_Type, dtype: int64"
      ]
     },
     "execution_count": 37,
     "metadata": {},
     "output_type": "execute_result"
    }
   ],
   "source": [
    "x_train['Medicine_Type'].value_counts()"
   ]
  },
  {
   "cell_type": "code",
   "execution_count": 25,
   "metadata": {},
   "outputs": [
    {
     "data": {
      "text/plain": [
       "Area013    932\n",
       "Area046    930\n",
       "Area035    930\n",
       "Area049    930\n",
       "Area045    929\n",
       "Area018    928\n",
       "Area017    926\n",
       "Area010    555\n",
       "Name: DistArea_ID, dtype: int64"
      ]
     },
     "execution_count": 25,
     "metadata": {},
     "output_type": "execute_result"
    }
   ],
   "source": [
    "df.DistArea_ID.value_counts()"
   ]
  },
  {
   "cell_type": "code",
   "execution_count": 21,
   "metadata": {},
   "outputs": [
    {
     "data": {
      "text/plain": [
       "<matplotlib.axes._subplots.AxesSubplot at 0x174c0c799e8>"
      ]
     },
     "execution_count": 21,
     "metadata": {},
     "output_type": "execute_result"
    },
    {
     "data": {
      "image/png": "[encoded data removed]",
      "text/plain": [
       "<Figure size 432x288 with 1 Axes>"
      ]
     },
     "metadata": {
      "needs_background": "light"
     },
     "output_type": "display_data"
    }
   ],
   "source": [
    "sns.boxplot(y='Counterfeit_Weight',data=x_train)"
   ]
  },
  {
   "cell_type": "code",
   "execution_count": 23,
   "metadata": {},
   "outputs": [
    {
     "data": {
      "text/plain": [
       "<matplotlib.axes._subplots.AxesSubplot at 0x174c0f8af98>"
      ]
     },
     "execution_count": 23,
     "metadata": {},
     "output_type": "execute_result"
    },
    {
     "data": {
      "image/png": "[encoded data removed]",
      "text/plain": [
       "<Figure size 432x288 with 1 Axes>"
      ]
     },
     "metadata": {
      "needs_background": "light"
     },
     "output_type": "display_data"
    }
   ],
   "source": [
    "sns.countplot(x='Active_Since',data=x_train)"
   ]
  },
  {
   "cell_type": "code",
   "execution_count": 38,
   "metadata": {},
   "outputs": [
    {
     "data": {
      "text/plain": [
       "[Text(0, 0, 'Hreplacements'),\n",
       " Text(0, 0, 'Antibiotics'),\n",
       " Text(0, 0, 'OralContraceptives'),\n",
       " Text(0, 0, 'Antiseptics'),\n",
       " Text(0, 0, 'Antipyretics'),\n",
       " Text(0, 0, 'Cardiac'),\n",
       " Text(0, 0, 'Mstablizers'),\n",
       " Text(0, 0, 'Tranquilizers'),\n",
       " Text(0, 0, 'Antimalarial'),\n",
       " Text(0, 0, 'Analgesics'),\n",
       " Text(0, 0, 'Antacids'),\n",
       " Text(0, 0, 'Statins'),\n",
       " Text(0, 0, 'MuscleRelaxants'),\n",
       " Text(0, 0, 'Antifungal'),\n",
       " Text(0, 0, 'Stimulants'),\n",
       " Text(0, 0, 'Antiviral')]"
      ]
     },
     "execution_count": 38,
     "metadata": {},
     "output_type": "execute_result"
    },
    {
     "data": {
      "image/png": "[encoded data removed]",
      "text/plain": [
       "<Figure size 1080x720 with 1 Axes>"
      ]
     },
     "metadata": {
      "needs_background": "light"
     },
     "output_type": "display_data"
    }
   ],
   "source": [
    "a4_dims = (15, 10)\n",
    "fig, ax = plt.subplots(figsize=a4_dims)\n",
    "g=sns.countplot(ax=ax,x='Medicine_Type',data=x_train)\n",
    "g.set_xticklabels(labels=['Hreplacements','Antibiotics','OralContraceptives','Antiseptics','Antipyretics','Cardiac','Mstablizers','Tranquilizers','Antimalarial','Analgesics','Antacids','Statins','MuscleRelaxants','Antifungal','Stimulants','Antiviral'],rotation=45)"
   ]
  },
  {
   "cell_type": "code",
   "execution_count": 39,
   "metadata": {},
   "outputs": [
    {
     "data": {
      "text/plain": [
       "<matplotlib.axes._subplots.AxesSubplot at 0x174c3c9d860>"
      ]
     },
     "execution_count": 39,
     "metadata": {},
     "output_type": "execute_result"
    },
    {
     "data": {
      "image/png": "[encoded data removed]",
      "text/plain": [
       "<Figure size 432x288 with 1 Axes>"
      ]
     },
     "metadata": {
      "needs_background": "light"
     },
     "output_type": "display_data"
    }
   ],
   "source": [
    "sns.countplot(x_train['SidEffect_Level'])"
   ]
  },
  {
   "cell_type": "code",
   "execution_count": 40,
   "metadata": {},
   "outputs": [
    {
     "data": {
      "text/plain": [
       "<matplotlib.axes._subplots.AxesSubplot at 0x174c39bdf60>"
      ]
     },
     "execution_count": 40,
     "metadata": {},
     "output_type": "execute_result"
    },
    {
     "data": {
      "image/png": "[encoded data removed]",
      "text/plain": [
       "<Figure size 432x288 with 1 Axes>"
      ]
     },
     "metadata": {
      "needs_background": "light"
     },
     "output_type": "display_data"
    }
   ],
   "source": [
    "sns.boxplot(x_train['Medicine_MRP'])"
   ]
  },
  {
   "cell_type": "markdown",
   "metadata": {},
   "source": [
    "# Data Cleaning and Preprocessing"
   ]
  },
  {
   "cell_type": "code",
   "execution_count": null,
   "metadata": {},
   "outputs": [],
   "source": [
    "# Note:\n",
    "# Impute null values with mean/median\n",
    "# Drop Medicine_ID column\n",
    "# Make dummies of all the object column\n",
    "# create dummy of year column"
   ]
  },
  {
   "cell_type": "code",
   "execution_count": 41,
   "metadata": {},
   "outputs": [
    {
     "name": "stderr",
     "output_type": "stream",
     "text": [
      "C:\\Users\\Lenovo\\Anaconda3\\lib\\site-packages\\pandas\\core\\frame.py:3940: SettingWithCopyWarning: \n",
      "A value is trying to be set on a copy of a slice from a DataFrame\n",
      "\n",
      "See the caveats in the documentation: http://pandas.pydata.org/pandas-docs/stable/indexing.html#indexing-view-versus-copy\n",
      "  errors=errors)\n"
     ]
    }
   ],
   "source": [
    "df_train.drop(['Medicine_ID'],inplace=True,axis=1)\n",
    "df_test.drop(['Medicine_ID'],inplace=True,axis=1)\n",
    "test.drop(['Medicine_ID'],inplace=True,axis=1)"
   ]
  },
  {
   "cell_type": "code",
   "execution_count": 42,
   "metadata": {},
   "outputs": [
    {
     "name": "stderr",
     "output_type": "stream",
     "text": [
      "C:\\Users\\Lenovo\\Anaconda3\\lib\\site-packages\\ipykernel_launcher.py:1: SettingWithCopyWarning: \n",
      "A value is trying to be set on a copy of a slice from a DataFrame.\n",
      "Try using .loc[row_indexer,col_indexer] = value instead\n",
      "\n",
      "See the caveats in the documentation: http://pandas.pydata.org/pandas-docs/stable/indexing.html#indexing-view-versus-copy\n",
      "  \"\"\"Entry point for launching an IPython kernel.\n",
      "C:\\Users\\Lenovo\\Anaconda3\\lib\\site-packages\\ipykernel_launcher.py:2: SettingWithCopyWarning: \n",
      "A value is trying to be set on a copy of a slice from a DataFrame.\n",
      "Try using .loc[row_indexer,col_indexer] = value instead\n",
      "\n",
      "See the caveats in the documentation: http://pandas.pydata.org/pandas-docs/stable/indexing.html#indexing-view-versus-copy\n",
      "  \n"
     ]
    }
   ],
   "source": [
    "df_train['Counterfeit_Weight']=df_train['Counterfeit_Weight'].fillna(df_train['Counterfeit_Weight'].mean())\n",
    "df_test['Counterfeit_Weight']=df_test['Counterfeit_Weight'].fillna(df_test['Counterfeit_Weight'].mean())\n",
    "test['Counterfeit_Weight']=test['Counterfeit_Weight'].fillna(test['Counterfeit_Weight'].mean())"
   ]
  },
  {
   "cell_type": "code",
   "execution_count": 44,
   "metadata": {},
   "outputs": [],
   "source": [
    "for i in df_train.columns:\n",
    "    if(df_train[i].dtype=='object'):\n",
    "        dummy=pd.get_dummies(df_train[i],drop_first=True,prefix=i)\n",
    "        df_train=pd.concat([df_train,dummy],axis=1)\n",
    "        del df_train[i]\n",
    "del dummy"
   ]
  },
  {
   "cell_type": "code",
   "execution_count": 45,
   "metadata": {},
   "outputs": [],
   "source": [
    "for i in df_test.columns:\n",
    "    if(df_test[i].dtype=='object'):\n",
    "        dummy=pd.get_dummies(df_test[i],drop_first=True,prefix=i)\n",
    "        df_test=pd.concat([df_test,dummy],axis=1)\n",
    "        del df_test[i]\n",
    "del dummy"
   ]
  },
  {
   "cell_type": "code",
   "execution_count": 47,
   "metadata": {},
   "outputs": [],
   "source": [
    "for i in test.columns:\n",
    "    if(test[i].dtype=='object'):\n",
    "        dummy=pd.get_dummies(test[i],drop_first=True,prefix=i)\n",
    "        test=pd.concat([test,dummy],axis=1)\n",
    "        del test[i]\n",
    "del dummy"
   ]
  },
  {
   "cell_type": "code",
   "execution_count": 46,
   "metadata": {},
   "outputs": [
    {
     "data": {
      "text/plain": [
       "[]"
      ]
     },
     "execution_count": 46,
     "metadata": {},
     "output_type": "execute_result"
    }
   ],
   "source": [
    "df_train.columns.difference(df_test.columns).tolist()"
   ]
  },
  {
   "cell_type": "code",
   "execution_count": 48,
   "metadata": {},
   "outputs": [
    {
     "data": {
      "text/plain": [
       "['Counterfeit_Sales']"
      ]
     },
     "execution_count": 48,
     "metadata": {},
     "output_type": "execute_result"
    }
   ],
   "source": [
    "df_train.columns.difference(test.columns).tolist()"
   ]
  },
  {
   "cell_type": "code",
   "execution_count": 62,
   "metadata": {},
   "outputs": [
    {
     "data": {
      "text/plain": [
       "Index(['Counterfeit_Weight', 'Active_Since', 'Medicine_MRP', 'Medicine_Type',\n",
       "       'Availability_rating', 'Counterfeit_Sales', 'data',\n",
       "       'DistArea_ID_Area010', 'DistArea_ID_Area013', 'DistArea_ID_Area017',\n",
       "       'DistArea_ID_Area018', 'DistArea_ID_Area035', 'DistArea_ID_Area045',\n",
       "       'DistArea_ID_Area046', 'DistArea_ID_Area049',\n",
       "       'SidEffect_Level_critical', 'SidEffect_Level_mild',\n",
       "       'Area_Type_DownTown', 'Area_Type_Industrial',\n",
       "       'Area_Type_MidTownResidential', 'Area_City_Type_Tier 1',\n",
       "       'Area_City_Type_Tier 2', 'Area_City_Type_Tier 3',\n",
       "       'Area_dist_level_High', 'Area_dist_level_Medium',\n",
       "       'Area_dist_level_Small', 'Area_dist_level_Unknown'],\n",
       "      dtype='object')"
      ]
     },
     "execution_count": 62,
     "metadata": {},
     "output_type": "execute_result"
    }
   ],
   "source": [
    "df.columns"
   ]
  },
  {
   "cell_type": "code",
   "execution_count": 49,
   "metadata": {},
   "outputs": [
    {
     "data": {
      "text/plain": [
       "(5454, 38)"
      ]
     },
     "execution_count": 49,
     "metadata": {},
     "output_type": "execute_result"
    }
   ],
   "source": [
    "df_train.shape"
   ]
  },
  {
   "cell_type": "code",
   "execution_count": 50,
   "metadata": {},
   "outputs": [],
   "source": [
    "colum=['Active_Since']\n",
    "for i in colum:\n",
    "    dummy=pd.get_dummies(df_train[i],drop_first=True,prefix=i)\n",
    "    df_train=pd.concat([df_train,dummy],axis=1)\n",
    "    del df_train[i]\n",
    "del dummy"
   ]
  },
  {
   "cell_type": "code",
   "execution_count": 53,
   "metadata": {},
   "outputs": [],
   "source": [
    "colum=['Active_Since']\n",
    "for i in colum:\n",
    "    dummy=pd.get_dummies(df_test[i],drop_first=True,prefix=i)\n",
    "    df_test=pd.concat([df_test,dummy],axis=1)\n",
    "    del df_test[i]\n",
    "del dummy"
   ]
  },
  {
   "cell_type": "code",
   "execution_count": 54,
   "metadata": {},
   "outputs": [],
   "source": [
    "colum=['Active_Since']\n",
    "for i in colum:\n",
    "    dummy=pd.get_dummies(test[i],drop_first=True,prefix=i)\n",
    "    test=pd.concat([test,dummy],axis=1)\n",
    "    del test[i]\n",
    "del dummy"
   ]
  },
  {
   "cell_type": "code",
   "execution_count": 56,
   "metadata": {},
   "outputs": [
    {
     "data": {
      "text/plain": [
       "Index(['Counterfeit_Weight', 'Medicine_MRP', 'Availability_rating',\n",
       "       'Counterfeit_Sales', 'DistArea_ID_Area013', 'DistArea_ID_Area017',\n",
       "       'DistArea_ID_Area018', 'DistArea_ID_Area019', 'DistArea_ID_Area027',\n",
       "       'DistArea_ID_Area035', 'DistArea_ID_Area045', 'DistArea_ID_Area046',\n",
       "       'DistArea_ID_Area049', 'Medicine_Type_Antacids',\n",
       "       'Medicine_Type_Antibiotics', 'Medicine_Type_Antifungal',\n",
       "       'Medicine_Type_Antimalarial', 'Medicine_Type_Antipyretics',\n",
       "       'Medicine_Type_Antiseptics', 'Medicine_Type_Antiviral',\n",
       "       'Medicine_Type_Cardiac', 'Medicine_Type_Hreplacements',\n",
       "       'Medicine_Type_Mstablizers', 'Medicine_Type_MuscleRelaxants',\n",
       "       'Medicine_Type_OralContraceptives', 'Medicine_Type_Statins',\n",
       "       'Medicine_Type_Stimulants', 'Medicine_Type_Tranquilizers',\n",
       "       'SidEffect_Level_mild', 'Area_Type_DownTown', 'Area_Type_Industrial',\n",
       "       'Area_Type_MidTownResidential', 'Area_City_Type_Tier 2',\n",
       "       'Area_City_Type_Tier 3', 'Area_dist_level_Medium',\n",
       "       'Area_dist_level_Small', 'Area_dist_level_Unknown', 'Active_Since_1985',\n",
       "       'Active_Since_1995', 'Active_Since_1996', 'Active_Since_1997',\n",
       "       'Active_Since_2000', 'Active_Since_2002', 'Active_Since_2005',\n",
       "       'Active_Since_2007'],\n",
       "      dtype='object')"
      ]
     },
     "execution_count": 56,
     "metadata": {},
     "output_type": "execute_result"
    }
   ],
   "source": [
    "df_train.columns"
   ]
  },
  {
   "cell_type": "markdown",
   "metadata": {},
   "source": [
    "# Checking Correlation"
   ]
  },
  {
   "cell_type": "code",
   "execution_count": 57,
   "metadata": {},
   "outputs": [],
   "source": [
    "def correlation(dataset, threshold):\n",
    "    col_corr = set()  # Set of all the names of correlated columns\n",
    "    corr_matrix = dataset.corr()\n",
    "    for i in range(len(corr_matrix.columns)):\n",
    "        for j in range(i):\n",
    "            if (corr_matrix.iloc[i, j]) > threshold: # we are interested in absolute coeff value\n",
    "                colname = corr_matrix.columns[i]  # getting the name of column\n",
    "                col_corr.add(colname)\n",
    "    return col_corr"
   ]
  },
  {
   "cell_type": "code",
   "execution_count": 58,
   "metadata": {},
   "outputs": [
    {
     "name": "stdout",
     "output_type": "stream",
     "text": [
      "Len= 0 \n",
      "Corr_features= set()\n"
     ]
    }
   ],
   "source": [
    "corr_features = correlation(train, 0.8)\n",
    "print('Len=',len(set(corr_features)),'\\nCorr_features=',corr_features)"
   ]
  },
  {
   "cell_type": "markdown",
   "metadata": {},
   "source": [
    "### Splitting again after preprocessing"
   ]
  },
  {
   "cell_type": "code",
   "execution_count": 59,
   "metadata": {},
   "outputs": [],
   "source": [
    "x_train=df_train.drop('Counterfeit_Sales',axis=1)\n",
    "y_train=df_train['Counterfeit_Sales']\n",
    "x_test=df_test.drop('Counterfeit_Sales',axis=1)\n",
    "y_test=df_test['Counterfeit_Sales']"
   ]
  },
  {
   "cell_type": "markdown",
   "metadata": {},
   "source": [
    "# Modelling"
   ]
  },
  {
   "cell_type": "code",
   "execution_count": 23,
   "metadata": {},
   "outputs": [],
   "source": [
    "target='Counterfeit_Sales'"
   ]
  },
  {
   "cell_type": "code",
   "execution_count": 24,
   "metadata": {},
   "outputs": [],
   "source": [
    "x_train=df.drop([target,'data'],1)[df['data']=='train']\n",
    "y_train=df[target][df['data']=='train']\n",
    "x_test=df.drop([target,'data'],1)[df['data']=='test']"
   ]
  },
  {
   "cell_type": "code",
   "execution_count": 25,
   "metadata": {},
   "outputs": [],
   "source": [
    "from sklearn.model_selection import train_test_split\n",
    "x_train_train,x_train_test=train_test_split(x_train,test_size=0.2,random_state=2)\n",
    "y_train_train,y_train_test=train_test_split(y_train,test_size=0.2,random_state=2)"
   ]
  },
  {
   "cell_type": "markdown",
   "metadata": {},
   "source": [
    "# Random Forest"
   ]
  },
  {
   "cell_type": "code",
   "execution_count": 60,
   "metadata": {},
   "outputs": [],
   "source": [
    "from sklearn.ensemble import RandomForestRegressor"
   ]
  },
  {
   "cell_type": "code",
   "execution_count": 62,
   "metadata": {},
   "outputs": [
    {
     "data": {
      "text/plain": [
       "RandomForestRegressor()"
      ]
     },
     "execution_count": 62,
     "metadata": {},
     "output_type": "execute_result"
    }
   ],
   "source": [
    "rf = RandomForestRegressor(n_estimators=100)\n",
    "rf.fit(x_train, y_train)"
   ]
  },
  {
   "cell_type": "code",
   "execution_count": 63,
   "metadata": {},
   "outputs": [],
   "source": [
    "from sklearn.metrics import mean_absolute_error"
   ]
  },
  {
   "cell_type": "code",
   "execution_count": 65,
   "metadata": {},
   "outputs": [
    {
     "data": {
      "text/plain": [
       "766.236374192082"
      ]
     },
     "execution_count": 65,
     "metadata": {},
     "output_type": "execute_result"
    }
   ],
   "source": [
    "rfpred=rf.predict(x_test)\n",
    "mae=mean_absolute_error(y_test, rfpred)\n",
    "mae"
   ]
  },
  {
   "cell_type": "code",
   "execution_count": 66,
   "metadata": {},
   "outputs": [
    {
     "data": {
      "text/plain": [
       "0.5384118227758542"
      ]
     },
     "execution_count": 66,
     "metadata": {},
     "output_type": "execute_result"
    }
   ],
   "source": [
    "score=1-(mae/1660)\n",
    "score"
   ]
  },
  {
   "cell_type": "markdown",
   "metadata": {},
   "source": [
    "# Linear Regression"
   ]
  },
  {
   "cell_type": "code",
   "execution_count": 68,
   "metadata": {},
   "outputs": [],
   "source": [
    "from sklearn.linear_model import LinearRegression\n",
    "linearmodel=LinearRegression().fit(x_train,y_train)"
   ]
  },
  {
   "cell_type": "code",
   "execution_count": 69,
   "metadata": {},
   "outputs": [],
   "source": [
    "linearpred=linearmodel.predict(x_test)"
   ]
  },
  {
   "cell_type": "code",
   "execution_count": 70,
   "metadata": {},
   "outputs": [
    {
     "data": {
      "text/plain": [
       "796.5282353322162"
      ]
     },
     "execution_count": 70,
     "metadata": {},
     "output_type": "execute_result"
    }
   ],
   "source": [
    "mae=mean_absolute_error(y_test, linearpred)\n",
    "mae"
   ]
  },
  {
   "cell_type": "code",
   "execution_count": 71,
   "metadata": {},
   "outputs": [
    {
     "data": {
      "text/plain": [
       "0.5201637136552915"
      ]
     },
     "execution_count": 71,
     "metadata": {},
     "output_type": "execute_result"
    }
   ],
   "source": [
    "score=1-(mae/1660)\n",
    "score"
   ]
  },
  {
   "cell_type": "markdown",
   "metadata": {},
   "source": [
    "# Ridge and Lasso"
   ]
  },
  {
   "cell_type": "code",
   "execution_count": 72,
   "metadata": {},
   "outputs": [],
   "source": [
    "from sklearn.linear_model import Ridge,Lasso\n",
    "from sklearn.model_selection import GridSearchCV"
   ]
  },
  {
   "cell_type": "code",
   "execution_count": 73,
   "metadata": {},
   "outputs": [],
   "source": [
    "lambdas=np.linspace(1,100,10)\n",
    "params={'alpha':lambdas}\n",
    "model=Ridge(fit_intercept=True)"
   ]
  },
  {
   "cell_type": "code",
   "execution_count": 74,
   "metadata": {},
   "outputs": [
    {
     "data": {
      "text/plain": [
       "GridSearchCV(cv=10, estimator=Ridge(),\n",
       "             param_grid={'alpha': array([  1.,  12.,  23.,  34.,  45.,  56.,  67.,  78.,  89., 100.])},\n",
       "             scoring='neg_mean_absolute_error')"
      ]
     },
     "execution_count": 74,
     "metadata": {},
     "output_type": "execute_result"
    }
   ],
   "source": [
    "grid_search=GridSearchCV(model,param_grid=params,cv=10,scoring='neg_mean_absolute_error')\n",
    "grid_search.fit(x_train,y_train)"
   ]
  },
  {
   "cell_type": "code",
   "execution_count": 76,
   "metadata": {},
   "outputs": [],
   "source": [
    "def report(results, n_top=3):\n",
    "    for i in range(1, n_top + 1):\n",
    "        candidates = np.flatnonzero(results['rank_test_score'] == i)\n",
    "        for candidate in candidates:\n",
    "            print(\"Model with rank: {0}\".format(i))\n",
    "            print(\"Mean validation score: {0:.3f} (std: {1:.3f})\".format(\n",
    "                  results['mean_test_score'][candidate],\n",
    "                  results['std_test_score'][candidate]))\n",
    "            print(\"Parameters: {0}\".format(results['params'][candidate]))\n",
    "            print(\"\")"
   ]
  },
  {
   "cell_type": "code",
   "execution_count": 77,
   "metadata": {},
   "outputs": [
    {
     "name": "stdout",
     "output_type": "stream",
     "text": [
      "Model with rank: 1\n",
      "Mean validation score: -834.688 (std: 29.812)\n",
      "Parameters: {'alpha': 89.0}\n",
      "\n",
      "Model with rank: 2\n",
      "Mean validation score: -834.710 (std: 29.874)\n",
      "Parameters: {'alpha': 100.0}\n",
      "\n",
      "Model with rank: 3\n",
      "Mean validation score: -834.730 (std: 29.756)\n",
      "Parameters: {'alpha': 78.0}\n",
      "\n",
      "Model with rank: 4\n",
      "Mean validation score: -834.832 (std: 29.713)\n",
      "Parameters: {'alpha': 67.0}\n",
      "\n",
      "Model with rank: 5\n",
      "Mean validation score: -834.988 (std: 29.665)\n",
      "Parameters: {'alpha': 56.0}\n",
      "\n",
      "Model with rank: 6\n",
      "Mean validation score: -835.208 (std: 29.613)\n",
      "Parameters: {'alpha': 45.0}\n",
      "\n",
      "Model with rank: 7\n",
      "Mean validation score: -835.504 (std: 29.562)\n",
      "Parameters: {'alpha': 34.0}\n",
      "\n",
      "Model with rank: 8\n",
      "Mean validation score: -835.894 (std: 29.507)\n",
      "Parameters: {'alpha': 23.0}\n",
      "\n",
      "Model with rank: 9\n",
      "Mean validation score: -836.447 (std: 29.478)\n",
      "Parameters: {'alpha': 12.0}\n",
      "\n",
      "Model with rank: 10\n",
      "Mean validation score: -837.225 (std: 29.437)\n",
      "Parameters: {'alpha': 1.0}\n",
      "\n"
     ]
    }
   ],
   "source": [
    "report(grid_search.cv_results_,100)"
   ]
  },
  {
   "cell_type": "code",
   "execution_count": 36,
   "metadata": {},
   "outputs": [
    {
     "data": {
      "text/plain": [
       "0.5253012048192771"
      ]
     },
     "execution_count": 36,
     "metadata": {},
     "output_type": "execute_result"
    }
   ],
   "source": [
    "1-(834/1660)"
   ]
  },
  {
   "cell_type": "code",
   "execution_count": 37,
   "metadata": {},
   "outputs": [],
   "source": [
    "lambdas=np.linspace(100,200,10)\n",
    "params={'alpha':lambdas}\n",
    "model=Ridge(fit_intercept=True)"
   ]
  },
  {
   "cell_type": "code",
   "execution_count": 38,
   "metadata": {},
   "outputs": [
    {
     "data": {
      "text/plain": [
       "GridSearchCV(cv=10, error_score='raise-deprecating',\n",
       "             estimator=Ridge(alpha=1.0, copy_X=True, fit_intercept=True,\n",
       "                             max_iter=None, normalize=False, random_state=None,\n",
       "                             solver='auto', tol=0.001),\n",
       "             iid='warn', n_jobs=None,\n",
       "             param_grid={'alpha': array([100.        , 111.11111111, 122.22222222, 133.33333333,\n",
       "       144.44444444, 155.55555556, 166.66666667, 177.77777778,\n",
       "       188.88888889, 200.        ])},\n",
       "             pre_dispatch='2*n_jobs', refit=True, return_train_score=False,\n",
       "             scoring='neg_mean_absolute_error', verbose=0)"
      ]
     },
     "execution_count": 38,
     "metadata": {},
     "output_type": "execute_result"
    }
   ],
   "source": [
    "grid_search=GridSearchCV(model,param_grid=params,cv=10,scoring='neg_mean_absolute_error')\n",
    "grid_search.fit(x_train_train,y_train_train)"
   ]
  },
  {
   "cell_type": "code",
   "execution_count": 39,
   "metadata": {},
   "outputs": [
    {
     "name": "stdout",
     "output_type": "stream",
     "text": [
      "Model with rank: 1\n",
      "Mean validation score: -788.224 (std: 26.642)\n",
      "Parameters: {'alpha': 100.0}\n",
      "\n",
      "Model with rank: 2\n",
      "Mean validation score: -788.229 (std: 26.602)\n",
      "Parameters: {'alpha': 111.11111111111111}\n",
      "\n",
      "Model with rank: 3\n",
      "Mean validation score: -788.247 (std: 26.554)\n",
      "Parameters: {'alpha': 122.22222222222223}\n",
      "\n",
      "Model with rank: 4\n",
      "Mean validation score: -788.272 (std: 26.511)\n",
      "Parameters: {'alpha': 133.33333333333331}\n",
      "\n",
      "Model with rank: 5\n",
      "Mean validation score: -788.303 (std: 26.464)\n",
      "Parameters: {'alpha': 144.44444444444446}\n",
      "\n",
      "Model with rank: 6\n",
      "Mean validation score: -788.337 (std: 26.422)\n",
      "Parameters: {'alpha': 155.55555555555554}\n",
      "\n",
      "Model with rank: 7\n",
      "Mean validation score: -788.391 (std: 26.379)\n",
      "Parameters: {'alpha': 166.66666666666666}\n",
      "\n",
      "Model with rank: 8\n",
      "Mean validation score: -788.452 (std: 26.334)\n",
      "Parameters: {'alpha': 177.77777777777777}\n",
      "\n",
      "Model with rank: 9\n",
      "Mean validation score: -788.517 (std: 26.286)\n",
      "Parameters: {'alpha': 188.88888888888889}\n",
      "\n",
      "Model with rank: 10\n",
      "Mean validation score: -788.586 (std: 26.239)\n",
      "Parameters: {'alpha': 200.0}\n",
      "\n"
     ]
    }
   ],
   "source": [
    "report(grid_search.cv_results_,100)"
   ]
  },
  {
   "cell_type": "markdown",
   "metadata": {},
   "source": [
    "# Randomized Search for Random Forest"
   ]
  },
  {
   "cell_type": "code",
   "execution_count": 78,
   "metadata": {},
   "outputs": [],
   "source": [
    "from sklearn.model_selection import RandomizedSearchCV\n",
    "# Number of trees in random forest\n",
    "n_estimators = [int(x) for x in np.linspace(start = 200, stop = 2000, num = 10)]\n",
    "# Number of features to consider at every split\n",
    "max_features = ['auto', 'sqrt']\n",
    "# Maximum number of levels in tree\n",
    "max_depth = [int(x) for x in np.linspace(10, 110, num = 11)]\n",
    "max_depth.append(None)\n",
    "# Minimum number of samples required to split a node\n",
    "min_samples_split = [2, 5, 10]\n",
    "# Minimum number of samples required at each leaf node\n",
    "min_samples_leaf = [1, 2, 4]\n",
    "# Method of selecting samples for training each tree\n",
    "bootstrap = [True, False]"
   ]
  },
  {
   "cell_type": "code",
   "execution_count": 79,
   "metadata": {},
   "outputs": [],
   "source": [
    "random_grid = {'n_estimators': n_estimators,\n",
    "               'max_features': max_features,\n",
    "               'max_depth': max_depth,\n",
    "               'min_samples_split': min_samples_split,\n",
    "               'min_samples_leaf': min_samples_leaf,\n",
    "               'bootstrap': bootstrap}"
   ]
  },
  {
   "cell_type": "code",
   "execution_count": 80,
   "metadata": {},
   "outputs": [
    {
     "name": "stdout",
     "output_type": "stream",
     "text": [
      "Fitting 3 folds for each of 50 candidates, totalling 150 fits\n"
     ]
    },
    {
     "data": {
      "text/plain": [
       "RandomizedSearchCV(cv=3, estimator=RandomForestRegressor(), n_iter=50,\n",
       "                   n_jobs=-1,\n",
       "                   param_distributions={'bootstrap': [True, False],\n",
       "                                        'max_depth': [10, 20, 30, 40, 50, 60,\n",
       "                                                      70, 80, 90, 100, 110,\n",
       "                                                      None],\n",
       "                                        'max_features': ['auto', 'sqrt'],\n",
       "                                        'min_samples_leaf': [1, 2, 4],\n",
       "                                        'min_samples_split': [2, 5, 10],\n",
       "                                        'n_estimators': [200, 400, 600, 800,\n",
       "                                                         1000, 1200, 1400, 1600,\n",
       "                                                         1800, 2000]},\n",
       "                   random_state=42, verbose=2)"
      ]
     },
     "execution_count": 80,
     "metadata": {},
     "output_type": "execute_result"
    }
   ],
   "source": [
    "rf = RandomForestRegressor()\n",
    "# Random search of parameters, using 3 fold cross validation, \n",
    "# search across 100 different combinations, and use all available cores\n",
    "rf_random = RandomizedSearchCV(estimator = rf, param_distributions = random_grid, n_iter = 50, cv = 3, verbose=2, random_state=42, n_jobs = -1)\n",
    "# Fit the random search model\n",
    "rf_random.fit(x_train, y_train)"
   ]
  },
  {
   "cell_type": "code",
   "execution_count": 81,
   "metadata": {},
   "outputs": [],
   "source": [
    "def report(results, n_top=3):\n",
    "    for i in range(1, n_top + 1):\n",
    "        candidates = np.flatnonzero(results['rank_test_score'] == i)\n",
    "        for candidate in candidates:\n",
    "            print(\"Model with rank: {0}\".format(i))\n",
    "            print(\"Mean validation score: {0:.3f} (std: {1:.3f})\".format(\n",
    "                  results['mean_test_score'][candidate],\n",
    "                  results['std_test_score'][candidate]))\n",
    "            print(\"Parameters: {0}\".format(results['params'][candidate]))\n",
    "            print(\"\")"
   ]
  },
  {
   "cell_type": "code",
   "execution_count": 82,
   "metadata": {},
   "outputs": [
    {
     "name": "stdout",
     "output_type": "stream",
     "text": [
      "Model with rank: 1\n",
      "Mean validation score: 0.576 (std: 0.005)\n",
      "Parameters: {'n_estimators': 200, 'min_samples_split': 5, 'min_samples_leaf': 4, 'max_features': 'auto', 'max_depth': 10, 'bootstrap': True}\n",
      "\n",
      "Model with rank: 2\n",
      "Mean validation score: 0.568 (std: 0.007)\n",
      "Parameters: {'n_estimators': 400, 'min_samples_split': 10, 'min_samples_leaf': 4, 'max_features': 'auto', 'max_depth': 70, 'bootstrap': True}\n",
      "\n",
      "Model with rank: 3\n",
      "Mean validation score: 0.564 (std: 0.005)\n",
      "Parameters: {'n_estimators': 1000, 'min_samples_split': 2, 'min_samples_leaf': 2, 'max_features': 'sqrt', 'max_depth': 60, 'bootstrap': True}\n",
      "\n",
      "Model with rank: 4\n",
      "Mean validation score: 0.563 (std: 0.005)\n",
      "Parameters: {'n_estimators': 1200, 'min_samples_split': 2, 'min_samples_leaf': 2, 'max_features': 'sqrt', 'max_depth': 20, 'bootstrap': True}\n",
      "\n",
      "Model with rank: 5\n",
      "Mean validation score: 0.563 (std: 0.004)\n",
      "Parameters: {'n_estimators': 1200, 'min_samples_split': 5, 'min_samples_leaf': 2, 'max_features': 'sqrt', 'max_depth': 20, 'bootstrap': True}\n",
      "\n",
      "Model with rank: 6\n",
      "Mean validation score: 0.563 (std: 0.004)\n",
      "Parameters: {'n_estimators': 1000, 'min_samples_split': 5, 'min_samples_leaf': 2, 'max_features': 'sqrt', 'max_depth': 20, 'bootstrap': True}\n",
      "\n",
      "Model with rank: 7\n",
      "Mean validation score: 0.563 (std: 0.002)\n",
      "Parameters: {'n_estimators': 600, 'min_samples_split': 10, 'min_samples_leaf': 2, 'max_features': 'sqrt', 'max_depth': 60, 'bootstrap': True}\n",
      "\n",
      "Model with rank: 8\n",
      "Mean validation score: 0.560 (std: 0.005)\n",
      "Parameters: {'n_estimators': 800, 'min_samples_split': 5, 'min_samples_leaf': 4, 'max_features': 'sqrt', 'max_depth': 30, 'bootstrap': False}\n",
      "\n",
      "Model with rank: 9\n",
      "Mean validation score: 0.560 (std: 0.005)\n",
      "Parameters: {'n_estimators': 1200, 'min_samples_split': 2, 'min_samples_leaf': 4, 'max_features': 'sqrt', 'max_depth': 70, 'bootstrap': False}\n",
      "\n",
      "Model with rank: 10\n",
      "Mean validation score: 0.560 (std: 0.005)\n",
      "Parameters: {'n_estimators': 1200, 'min_samples_split': 10, 'min_samples_leaf': 4, 'max_features': 'sqrt', 'max_depth': 20, 'bootstrap': False}\n",
      "\n",
      "Model with rank: 11\n",
      "Mean validation score: 0.560 (std: 0.008)\n",
      "Parameters: {'n_estimators': 800, 'min_samples_split': 10, 'min_samples_leaf': 2, 'max_features': 'sqrt', 'max_depth': 20, 'bootstrap': False}\n",
      "\n",
      "Model with rank: 12\n",
      "Mean validation score: 0.560 (std: 0.008)\n",
      "Parameters: {'n_estimators': 800, 'min_samples_split': 10, 'min_samples_leaf': 2, 'max_features': 'sqrt', 'max_depth': 30, 'bootstrap': False}\n",
      "\n",
      "Model with rank: 13\n",
      "Mean validation score: 0.559 (std: 0.009)\n",
      "Parameters: {'n_estimators': 800, 'min_samples_split': 5, 'min_samples_leaf': 2, 'max_features': 'auto', 'max_depth': None, 'bootstrap': True}\n",
      "\n",
      "Model with rank: 14\n",
      "Mean validation score: 0.559 (std: 0.004)\n",
      "Parameters: {'n_estimators': 400, 'min_samples_split': 10, 'min_samples_leaf': 4, 'max_features': 'sqrt', 'max_depth': 80, 'bootstrap': False}\n",
      "\n",
      "Model with rank: 15\n",
      "Mean validation score: 0.558 (std: 0.009)\n",
      "Parameters: {'n_estimators': 2000, 'min_samples_split': 2, 'min_samples_leaf': 2, 'max_features': 'auto', 'max_depth': 90, 'bootstrap': True}\n",
      "\n",
      "Model with rank: 16\n",
      "Mean validation score: 0.558 (std: 0.001)\n",
      "Parameters: {'n_estimators': 1800, 'min_samples_split': 2, 'min_samples_leaf': 4, 'max_features': 'sqrt', 'max_depth': 90, 'bootstrap': True}\n",
      "\n",
      "Model with rank: 17\n",
      "Mean validation score: 0.558 (std: 0.009)\n",
      "Parameters: {'n_estimators': 1800, 'min_samples_split': 2, 'min_samples_leaf': 2, 'max_features': 'auto', 'max_depth': None, 'bootstrap': True}\n",
      "\n",
      "Model with rank: 18\n",
      "Mean validation score: 0.557 (std: 0.001)\n",
      "Parameters: {'n_estimators': 800, 'min_samples_split': 2, 'min_samples_leaf': 4, 'max_features': 'sqrt', 'max_depth': 90, 'bootstrap': True}\n",
      "\n",
      "Model with rank: 19\n",
      "Mean validation score: 0.557 (std: 0.008)\n",
      "Parameters: {'n_estimators': 400, 'min_samples_split': 5, 'min_samples_leaf': 1, 'max_features': 'sqrt', 'max_depth': 30, 'bootstrap': True}\n",
      "\n",
      "Model with rank: 20\n",
      "Mean validation score: 0.557 (std: 0.001)\n",
      "Parameters: {'n_estimators': 1400, 'min_samples_split': 5, 'min_samples_leaf': 4, 'max_features': 'sqrt', 'max_depth': 80, 'bootstrap': True}\n",
      "\n",
      "Model with rank: 21\n",
      "Mean validation score: 0.557 (std: 0.002)\n",
      "Parameters: {'n_estimators': 400, 'min_samples_split': 10, 'min_samples_leaf': 4, 'max_features': 'sqrt', 'max_depth': 90, 'bootstrap': True}\n",
      "\n",
      "Model with rank: 22\n",
      "Mean validation score: 0.557 (std: 0.002)\n",
      "Parameters: {'n_estimators': 800, 'min_samples_split': 10, 'min_samples_leaf': 4, 'max_features': 'sqrt', 'max_depth': 50, 'bootstrap': True}\n",
      "\n",
      "Model with rank: 23\n",
      "Mean validation score: 0.556 (std: 0.011)\n",
      "Parameters: {'n_estimators': 600, 'min_samples_split': 5, 'min_samples_leaf': 1, 'max_features': 'auto', 'max_depth': 80, 'bootstrap': True}\n",
      "\n",
      "Model with rank: 24\n",
      "Mean validation score: 0.555 (std: 0.010)\n",
      "Parameters: {'n_estimators': 1800, 'min_samples_split': 10, 'min_samples_leaf': 1, 'max_features': 'sqrt', 'max_depth': 30, 'bootstrap': False}\n",
      "\n",
      "Model with rank: 25\n",
      "Mean validation score: 0.555 (std: 0.009)\n",
      "Parameters: {'n_estimators': 1000, 'min_samples_split': 5, 'min_samples_leaf': 2, 'max_features': 'sqrt', 'max_depth': 100, 'bootstrap': False}\n",
      "\n",
      "Model with rank: 26\n",
      "Mean validation score: 0.554 (std: 0.010)\n",
      "Parameters: {'n_estimators': 800, 'min_samples_split': 2, 'min_samples_leaf': 2, 'max_features': 'sqrt', 'max_depth': 50, 'bootstrap': False}\n",
      "\n",
      "Model with rank: 27\n",
      "Mean validation score: 0.553 (std: 0.008)\n",
      "Parameters: {'n_estimators': 600, 'min_samples_split': 2, 'min_samples_leaf': 2, 'max_features': 'sqrt', 'max_depth': 110, 'bootstrap': False}\n",
      "\n",
      "Model with rank: 28\n",
      "Mean validation score: 0.553 (std: 0.010)\n",
      "Parameters: {'n_estimators': 1000, 'min_samples_split': 2, 'min_samples_leaf': 1, 'max_features': 'sqrt', 'max_depth': 20, 'bootstrap': True}\n",
      "\n",
      "Model with rank: 29\n",
      "Mean validation score: 0.552 (std: 0.011)\n",
      "Parameters: {'n_estimators': 800, 'min_samples_split': 2, 'min_samples_leaf': 1, 'max_features': 'auto', 'max_depth': 100, 'bootstrap': True}\n",
      "\n",
      "Model with rank: 30\n",
      "Mean validation score: 0.548 (std: 0.012)\n",
      "Parameters: {'n_estimators': 1000, 'min_samples_split': 2, 'min_samples_leaf': 1, 'max_features': 'sqrt', 'max_depth': 110, 'bootstrap': True}\n",
      "\n",
      "Model with rank: 31\n",
      "Mean validation score: 0.546 (std: 0.003)\n",
      "Parameters: {'n_estimators': 2000, 'min_samples_split': 5, 'min_samples_leaf': 1, 'max_features': 'sqrt', 'max_depth': 10, 'bootstrap': True}\n",
      "\n",
      "Model with rank: 32\n",
      "Mean validation score: 0.545 (std: 0.003)\n",
      "Parameters: {'n_estimators': 1600, 'min_samples_split': 5, 'min_samples_leaf': 2, 'max_features': 'sqrt', 'max_depth': 10, 'bootstrap': False}\n",
      "\n",
      "Model with rank: 33\n",
      "Mean validation score: 0.544 (std: 0.003)\n",
      "Parameters: {'n_estimators': 1200, 'min_samples_split': 5, 'min_samples_leaf': 2, 'max_features': 'sqrt', 'max_depth': 10, 'bootstrap': False}\n",
      "\n",
      "Model with rank: 34\n",
      "Mean validation score: 0.543 (std: 0.002)\n",
      "Parameters: {'n_estimators': 2000, 'min_samples_split': 10, 'min_samples_leaf': 1, 'max_features': 'sqrt', 'max_depth': 10, 'bootstrap': False}\n",
      "\n",
      "Model with rank: 35\n",
      "Mean validation score: 0.541 (std: 0.015)\n",
      "Parameters: {'n_estimators': 1600, 'min_samples_split': 5, 'min_samples_leaf': 1, 'max_features': 'sqrt', 'max_depth': 70, 'bootstrap': False}\n",
      "\n",
      "Model with rank: 36\n",
      "Mean validation score: 0.541 (std: 0.015)\n",
      "Parameters: {'n_estimators': 600, 'min_samples_split': 5, 'min_samples_leaf': 1, 'max_features': 'sqrt', 'max_depth': 60, 'bootstrap': False}\n",
      "\n",
      "Model with rank: 37\n",
      "Mean validation score: 0.540 (std: 0.015)\n",
      "Parameters: {'n_estimators': 1400, 'min_samples_split': 5, 'min_samples_leaf': 1, 'max_features': 'sqrt', 'max_depth': 80, 'bootstrap': False}\n",
      "\n",
      "Model with rank: 38\n",
      "Mean validation score: 0.540 (std: 0.016)\n",
      "Parameters: {'n_estimators': 800, 'min_samples_split': 5, 'min_samples_leaf': 1, 'max_features': 'sqrt', 'max_depth': 90, 'bootstrap': False}\n",
      "\n",
      "Model with rank: 39\n",
      "Mean validation score: 0.540 (std: 0.016)\n",
      "Parameters: {'n_estimators': 800, 'min_samples_split': 5, 'min_samples_leaf': 1, 'max_features': 'sqrt', 'max_depth': 100, 'bootstrap': False}\n",
      "\n",
      "Model with rank: 40\n",
      "Mean validation score: 0.538 (std: 0.002)\n",
      "Parameters: {'n_estimators': 1600, 'min_samples_split': 2, 'min_samples_leaf': 4, 'max_features': 'sqrt', 'max_depth': 10, 'bootstrap': True}\n",
      "\n",
      "Model with rank: 41\n",
      "Mean validation score: 0.518 (std: 0.019)\n",
      "Parameters: {'n_estimators': 400, 'min_samples_split': 2, 'min_samples_leaf': 1, 'max_features': 'sqrt', 'max_depth': None, 'bootstrap': False}\n",
      "\n",
      "Model with rank: 42\n",
      "Mean validation score: 0.494 (std: 0.007)\n",
      "Parameters: {'n_estimators': 1800, 'min_samples_split': 5, 'min_samples_leaf': 4, 'max_features': 'auto', 'max_depth': 10, 'bootstrap': False}\n",
      "\n",
      "Model with rank: 43\n",
      "Mean validation score: 0.380 (std: 0.019)\n",
      "Parameters: {'n_estimators': 2000, 'min_samples_split': 10, 'min_samples_leaf': 4, 'max_features': 'auto', 'max_depth': 100, 'bootstrap': False}\n",
      "\n",
      "Model with rank: 44\n",
      "Mean validation score: 0.365 (std: 0.018)\n",
      "Parameters: {'n_estimators': 2000, 'min_samples_split': 2, 'min_samples_leaf': 4, 'max_features': 'auto', 'max_depth': 30, 'bootstrap': False}\n",
      "\n",
      "Model with rank: 45\n",
      "Mean validation score: 0.365 (std: 0.018)\n",
      "Parameters: {'n_estimators': 1800, 'min_samples_split': 2, 'min_samples_leaf': 4, 'max_features': 'auto', 'max_depth': 50, 'bootstrap': False}\n",
      "\n",
      "Model with rank: 46\n",
      "Mean validation score: 0.327 (std: 0.018)\n",
      "Parameters: {'n_estimators': 1800, 'min_samples_split': 10, 'min_samples_leaf': 2, 'max_features': 'auto', 'max_depth': 110, 'bootstrap': False}\n",
      "\n",
      "Model with rank: 47\n",
      "Mean validation score: 0.261 (std: 0.018)\n",
      "Parameters: {'n_estimators': 600, 'min_samples_split': 5, 'min_samples_leaf': 2, 'max_features': 'auto', 'max_depth': 70, 'bootstrap': False}\n",
      "\n",
      "Model with rank: 48\n",
      "Mean validation score: 0.261 (std: 0.018)\n",
      "Parameters: {'n_estimators': 200, 'min_samples_split': 5, 'min_samples_leaf': 2, 'max_features': 'auto', 'max_depth': 90, 'bootstrap': False}\n",
      "\n",
      "Model with rank: 49\n",
      "Mean validation score: 0.179 (std: 0.023)\n",
      "Parameters: {'n_estimators': 1000, 'min_samples_split': 2, 'min_samples_leaf': 1, 'max_features': 'auto', 'max_depth': 50, 'bootstrap': False}\n",
      "\n",
      "Model with rank: 50\n",
      "Mean validation score: 0.178 (std: 0.024)\n",
      "Parameters: {'n_estimators': 1400, 'min_samples_split': 2, 'min_samples_leaf': 1, 'max_features': 'auto', 'max_depth': 40, 'bootstrap': False}\n",
      "\n"
     ]
    }
   ],
   "source": [
    "report(rf_random.cv_results_,100)"
   ]
  },
  {
   "cell_type": "code",
   "execution_count": 84,
   "metadata": {},
   "outputs": [
    {
     "data": {
      "text/plain": [
       "RandomForestRegressor(max_depth=10, min_samples_leaf=4, min_samples_split=5,\n",
       "                      n_estimators=200)"
      ]
     },
     "execution_count": 84,
     "metadata": {},
     "output_type": "execute_result"
    }
   ],
   "source": [
    "rf = RandomForestRegressor(n_estimators= 200, min_samples_split= 5, min_samples_leaf= 4, max_features= 'auto', max_depth= 10, bootstrap= True)\n",
    "rf.fit(x_train, y_train)"
   ]
  },
  {
   "cell_type": "code",
   "execution_count": 85,
   "metadata": {},
   "outputs": [],
   "source": [
    "rfpred=rf.predict(x_test)"
   ]
  },
  {
   "cell_type": "code",
   "execution_count": 87,
   "metadata": {},
   "outputs": [
    {
     "data": {
      "text/plain": [
       "727.5169572282513"
      ]
     },
     "execution_count": 87,
     "metadata": {},
     "output_type": "execute_result"
    }
   ],
   "source": [
    "mae=mean_absolute_error(y_test, rfpred)\n",
    "mae"
   ]
  },
  {
   "cell_type": "code",
   "execution_count": 88,
   "metadata": {},
   "outputs": [
    {
     "data": {
      "text/plain": [
       "0.5617367727540654"
      ]
     },
     "execution_count": 88,
     "metadata": {},
     "output_type": "execute_result"
    }
   ],
   "source": [
    "1-(mae/1660)"
   ]
  },
  {
   "cell_type": "markdown",
   "metadata": {},
   "source": [
    "# Attempt Two"
   ]
  },
  {
   "cell_type": "code",
   "execution_count": 89,
   "metadata": {},
   "outputs": [],
   "source": [
    "n_estimators = [int(x) for x in np.linspace(start = 200, stop = 2000, num = 10)]\n",
    "# Number of features to consider at every split\n",
    "max_features = ['auto', 'sqrt']\n",
    "# Maximum number of levels in tree\n",
    "max_depth = [int(x) for x in np.linspace(10, 110, num = 11)]\n",
    "max_depth.append(None)\n",
    "# Minimum number of samples required to split a node\n",
    "min_samples_split = [ 4,15,30]\n",
    "# Minimum number of samples required at each leaf node\n",
    "min_samples_leaf = [3, 7, 10]\n",
    "# Method of selecting samples for training each tree\n",
    "bootstrap = [True, False]"
   ]
  },
  {
   "cell_type": "code",
   "execution_count": 90,
   "metadata": {},
   "outputs": [],
   "source": [
    "random_grid = {'n_estimators': n_estimators,\n",
    "               'max_features': max_features,\n",
    "               'max_depth': max_depth,\n",
    "               'min_samples_split': min_samples_split,\n",
    "               'min_samples_leaf': min_samples_leaf,\n",
    "               'bootstrap': bootstrap}"
   ]
  },
  {
   "cell_type": "code",
   "execution_count": 91,
   "metadata": {},
   "outputs": [
    {
     "name": "stdout",
     "output_type": "stream",
     "text": [
      "Fitting 3 folds for each of 100 candidates, totalling 300 fits\n"
     ]
    },
    {
     "data": {
      "text/plain": [
       "RandomizedSearchCV(cv=3, estimator=RandomForestRegressor(), n_iter=100,\n",
       "                   n_jobs=-1,\n",
       "                   param_distributions={'bootstrap': [True, False],\n",
       "                                        'max_depth': [10, 20, 30, 40, 50, 60,\n",
       "                                                      70, 80, 90, 100, 110,\n",
       "                                                      None],\n",
       "                                        'max_features': ['auto', 'sqrt'],\n",
       "                                        'min_samples_leaf': [3, 7, 10],\n",
       "                                        'min_samples_split': [4, 15, 30],\n",
       "                                        'n_estimators': [200, 400, 600, 800,\n",
       "                                                         1000, 1200, 1400, 1600,\n",
       "                                                         1800, 2000]},\n",
       "                   random_state=42, verbose=2)"
      ]
     },
     "execution_count": 91,
     "metadata": {},
     "output_type": "execute_result"
    }
   ],
   "source": [
    "rf = RandomForestRegressor()\n",
    "# Random search of parameters, using 3 fold cross validation, \n",
    "# search across 100 different combinations, and use all available cores\n",
    "rf_random = RandomizedSearchCV(estimator = rf, param_distributions = random_grid, n_iter = 100, cv = 3, verbose=2, random_state=42, n_jobs = -1)\n",
    "# Fit the random search model\n",
    "rf_random.fit(x_train, y_train)"
   ]
  },
  {
   "cell_type": "code",
   "execution_count": 92,
   "metadata": {},
   "outputs": [
    {
     "name": "stdout",
     "output_type": "stream",
     "text": [
      "Model with rank: 1\n",
      "Mean validation score: 0.584 (std: 0.007)\n",
      "Parameters: {'n_estimators': 400, 'min_samples_split': 30, 'min_samples_leaf': 10, 'max_features': 'auto', 'max_depth': 70, 'bootstrap': True}\n",
      "\n",
      "Model with rank: 2\n",
      "Mean validation score: 0.583 (std: 0.006)\n",
      "Parameters: {'n_estimators': 2000, 'min_samples_split': 30, 'min_samples_leaf': 7, 'max_features': 'auto', 'max_depth': 40, 'bootstrap': True}\n",
      "\n",
      "Model with rank: 3\n",
      "Mean validation score: 0.583 (std: 0.006)\n",
      "Parameters: {'n_estimators': 200, 'min_samples_split': 15, 'min_samples_leaf': 10, 'max_features': 'auto', 'max_depth': 10, 'bootstrap': True}\n",
      "\n",
      "Model with rank: 4\n",
      "Mean validation score: 0.583 (std: 0.006)\n",
      "Parameters: {'n_estimators': 600, 'min_samples_split': 30, 'min_samples_leaf': 7, 'max_features': 'auto', 'max_depth': 100, 'bootstrap': True}\n",
      "\n",
      "Model with rank: 5\n",
      "Mean validation score: 0.583 (std: 0.006)\n",
      "Parameters: {'n_estimators': 1600, 'min_samples_split': 30, 'min_samples_leaf': 7, 'max_features': 'auto', 'max_depth': None, 'bootstrap': True}\n",
      "\n",
      "Model with rank: 6\n",
      "Mean validation score: 0.581 (std: 0.007)\n",
      "Parameters: {'n_estimators': 1000, 'min_samples_split': 15, 'min_samples_leaf': 10, 'max_features': 'auto', 'max_depth': 100, 'bootstrap': True}\n",
      "\n",
      "Model with rank: 7\n",
      "Mean validation score: 0.581 (std: 0.006)\n",
      "Parameters: {'n_estimators': 200, 'min_samples_split': 15, 'min_samples_leaf': 10, 'max_features': 'auto', 'max_depth': 80, 'bootstrap': True}\n",
      "\n",
      "Model with rank: 8\n",
      "Mean validation score: 0.580 (std: 0.007)\n",
      "Parameters: {'n_estimators': 600, 'min_samples_split': 4, 'min_samples_leaf': 10, 'max_features': 'auto', 'max_depth': 40, 'bootstrap': True}\n",
      "\n",
      "Model with rank: 9\n",
      "Mean validation score: 0.580 (std: 0.006)\n",
      "Parameters: {'n_estimators': 1600, 'min_samples_split': 15, 'min_samples_leaf': 3, 'max_features': 'auto', 'max_depth': 10, 'bootstrap': True}\n",
      "\n",
      "Model with rank: 10\n",
      "Mean validation score: 0.577 (std: 0.007)\n",
      "Parameters: {'n_estimators': 800, 'min_samples_split': 15, 'min_samples_leaf': 7, 'max_features': 'auto', 'max_depth': None, 'bootstrap': True}\n",
      "\n",
      "Model with rank: 11\n",
      "Mean validation score: 0.576 (std: 0.007)\n",
      "Parameters: {'n_estimators': 2000, 'min_samples_split': 4, 'min_samples_leaf': 7, 'max_features': 'auto', 'max_depth': 90, 'bootstrap': True}\n",
      "\n",
      "Model with rank: 12\n",
      "Mean validation score: 0.576 (std: 0.007)\n",
      "Parameters: {'n_estimators': 1800, 'min_samples_split': 4, 'min_samples_leaf': 7, 'max_features': 'auto', 'max_depth': None, 'bootstrap': True}\n",
      "\n",
      "Model with rank: 13\n",
      "Mean validation score: 0.576 (std: 0.007)\n",
      "Parameters: {'n_estimators': 1400, 'min_samples_split': 4, 'min_samples_leaf': 7, 'max_features': 'auto', 'max_depth': 70, 'bootstrap': True}\n",
      "\n",
      "Model with rank: 14\n",
      "Mean validation score: 0.576 (std: 0.006)\n",
      "Parameters: {'n_estimators': 1800, 'min_samples_split': 4, 'min_samples_leaf': 7, 'max_features': 'auto', 'max_depth': 80, 'bootstrap': True}\n",
      "\n",
      "Model with rank: 15\n",
      "Mean validation score: 0.573 (std: 0.006)\n",
      "Parameters: {'n_estimators': 600, 'min_samples_split': 15, 'min_samples_leaf': 3, 'max_features': 'auto', 'max_depth': 80, 'bootstrap': True}\n",
      "\n",
      "Model with rank: 16\n",
      "Mean validation score: 0.572 (std: 0.007)\n",
      "Parameters: {'n_estimators': 1600, 'min_samples_split': 15, 'min_samples_leaf': 3, 'max_features': 'auto', 'max_depth': 90, 'bootstrap': True}\n",
      "\n",
      "Model with rank: 17\n",
      "Mean validation score: 0.563 (std: 0.008)\n",
      "Parameters: {'n_estimators': 1400, 'min_samples_split': 4, 'min_samples_leaf': 3, 'max_features': 'auto', 'max_depth': 100, 'bootstrap': True}\n",
      "\n",
      "Model with rank: 18\n",
      "Mean validation score: 0.562 (std: 0.008)\n",
      "Parameters: {'n_estimators': 800, 'min_samples_split': 4, 'min_samples_leaf': 3, 'max_features': 'auto', 'max_depth': 100, 'bootstrap': True}\n",
      "\n",
      "Model with rank: 19\n",
      "Mean validation score: 0.562 (std: 0.003)\n",
      "Parameters: {'n_estimators': 1000, 'min_samples_split': 4, 'min_samples_leaf': 3, 'max_features': 'sqrt', 'max_depth': 110, 'bootstrap': True}\n",
      "\n",
      "Model with rank: 20\n",
      "Mean validation score: 0.561 (std: 0.002)\n",
      "Parameters: {'n_estimators': 1000, 'min_samples_split': 4, 'min_samples_leaf': 3, 'max_features': 'sqrt', 'max_depth': 20, 'bootstrap': True}\n",
      "\n",
      "Model with rank: 21\n",
      "Mean validation score: 0.561 (std: 0.004)\n",
      "Parameters: {'n_estimators': 200, 'min_samples_split': 4, 'min_samples_leaf': 3, 'max_features': 'sqrt', 'max_depth': 50, 'bootstrap': True}\n",
      "\n",
      "Model with rank: 22\n",
      "Mean validation score: 0.561 (std: 0.008)\n",
      "Parameters: {'n_estimators': 400, 'min_samples_split': 4, 'min_samples_leaf': 3, 'max_features': 'sqrt', 'max_depth': None, 'bootstrap': False}\n",
      "\n",
      "Model with rank: 23\n",
      "Mean validation score: 0.560 (std: 0.005)\n",
      "Parameters: {'n_estimators': 800, 'min_samples_split': 15, 'min_samples_leaf': 3, 'max_features': 'sqrt', 'max_depth': 100, 'bootstrap': False}\n",
      "\n",
      "Model with rank: 24\n",
      "Mean validation score: 0.559 (std: 0.005)\n",
      "Parameters: {'n_estimators': 1600, 'min_samples_split': 15, 'min_samples_leaf': 3, 'max_features': 'sqrt', 'max_depth': 70, 'bootstrap': False}\n",
      "\n",
      "Model with rank: 25\n",
      "Mean validation score: 0.559 (std: 0.004)\n",
      "Parameters: {'n_estimators': 600, 'min_samples_split': 15, 'min_samples_leaf': 3, 'max_features': 'sqrt', 'max_depth': 60, 'bootstrap': False}\n",
      "\n",
      "Model with rank: 26\n",
      "Mean validation score: 0.559 (std: 0.004)\n",
      "Parameters: {'n_estimators': 1400, 'min_samples_split': 15, 'min_samples_leaf': 3, 'max_features': 'sqrt', 'max_depth': 80, 'bootstrap': False}\n",
      "\n",
      "Model with rank: 27\n",
      "Mean validation score: 0.559 (std: 0.006)\n",
      "Parameters: {'n_estimators': 800, 'min_samples_split': 15, 'min_samples_leaf': 3, 'max_features': 'sqrt', 'max_depth': 90, 'bootstrap': False}\n",
      "\n",
      "Model with rank: 28\n",
      "Mean validation score: 0.558 (std: 0.001)\n",
      "Parameters: {'n_estimators': 2000, 'min_samples_split': 15, 'min_samples_leaf': 3, 'max_features': 'sqrt', 'max_depth': 100, 'bootstrap': True}\n",
      "\n",
      "Model with rank: 29\n",
      "Mean validation score: 0.558 (std: 0.002)\n",
      "Parameters: {'n_estimators': 400, 'min_samples_split': 15, 'min_samples_leaf': 3, 'max_features': 'sqrt', 'max_depth': 100, 'bootstrap': True}\n",
      "\n",
      "Model with rank: 30\n",
      "Mean validation score: 0.558 (std: 0.001)\n",
      "Parameters: {'n_estimators': 400, 'min_samples_split': 15, 'min_samples_leaf': 3, 'max_features': 'sqrt', 'max_depth': 30, 'bootstrap': True}\n",
      "\n",
      "Model with rank: 31\n",
      "Mean validation score: 0.556 (std: 0.000)\n",
      "Parameters: {'n_estimators': 800, 'min_samples_split': 15, 'min_samples_leaf': 3, 'max_features': 'sqrt', 'max_depth': 40, 'bootstrap': True}\n",
      "\n",
      "Model with rank: 32\n",
      "Mean validation score: 0.555 (std: 0.002)\n",
      "Parameters: {'n_estimators': 1800, 'min_samples_split': 30, 'min_samples_leaf': 3, 'max_features': 'sqrt', 'max_depth': 30, 'bootstrap': False}\n",
      "\n",
      "Model with rank: 33\n",
      "Mean validation score: 0.555 (std: 0.004)\n",
      "Parameters: {'n_estimators': 1000, 'min_samples_split': 30, 'min_samples_leaf': 3, 'max_features': 'sqrt', 'max_depth': 80, 'bootstrap': False}\n",
      "\n",
      "Model with rank: 34\n",
      "Mean validation score: 0.553 (std: 0.003)\n",
      "Parameters: {'n_estimators': 600, 'min_samples_split': 30, 'min_samples_leaf': 3, 'max_features': 'sqrt', 'max_depth': 40, 'bootstrap': False}\n",
      "\n",
      "Model with rank: 35\n",
      "Mean validation score: 0.553 (std: 0.001)\n",
      "Parameters: {'n_estimators': 800, 'min_samples_split': 4, 'min_samples_leaf': 7, 'max_features': 'sqrt', 'max_depth': 50, 'bootstrap': False}\n",
      "\n",
      "Model with rank: 36\n",
      "Mean validation score: 0.553 (std: 0.001)\n",
      "Parameters: {'n_estimators': 600, 'min_samples_split': 4, 'min_samples_leaf': 7, 'max_features': 'sqrt', 'max_depth': 110, 'bootstrap': False}\n",
      "\n",
      "Model with rank: 37\n",
      "Mean validation score: 0.552 (std: 0.002)\n",
      "Parameters: {'n_estimators': 1000, 'min_samples_split': 15, 'min_samples_leaf': 7, 'max_features': 'sqrt', 'max_depth': 100, 'bootstrap': False}\n",
      "\n",
      "Model with rank: 38\n",
      "Mean validation score: 0.552 (std: 0.002)\n",
      "Parameters: {'n_estimators': 1400, 'min_samples_split': 15, 'min_samples_leaf': 7, 'max_features': 'sqrt', 'max_depth': None, 'bootstrap': False}\n",
      "\n",
      "Model with rank: 39\n",
      "Mean validation score: 0.552 (std: 0.001)\n",
      "Parameters: {'n_estimators': 1600, 'min_samples_split': 30, 'min_samples_leaf': 3, 'max_features': 'sqrt', 'max_depth': None, 'bootstrap': True}\n",
      "\n",
      "Model with rank: 40\n",
      "Mean validation score: 0.551 (std: 0.001)\n",
      "Parameters: {'n_estimators': 1600, 'min_samples_split': 30, 'min_samples_leaf': 3, 'max_features': 'sqrt', 'max_depth': 20, 'bootstrap': True}\n",
      "\n",
      "Model with rank: 41\n",
      "Mean validation score: 0.549 (std: 0.000)\n",
      "Parameters: {'n_estimators': 600, 'min_samples_split': 30, 'min_samples_leaf': 3, 'max_features': 'sqrt', 'max_depth': 110, 'bootstrap': True}\n",
      "\n",
      "Model with rank: 42\n",
      "Mean validation score: 0.547 (std: 0.002)\n",
      "Parameters: {'n_estimators': 1200, 'min_samples_split': 4, 'min_samples_leaf': 7, 'max_features': 'sqrt', 'max_depth': 20, 'bootstrap': True}\n",
      "\n",
      "Model with rank: 43\n",
      "Mean validation score: 0.546 (std: 0.002)\n",
      "Parameters: {'n_estimators': 1000, 'min_samples_split': 4, 'min_samples_leaf': 7, 'max_features': 'sqrt', 'max_depth': 60, 'bootstrap': True}\n",
      "\n",
      "Model with rank: 44\n",
      "Mean validation score: 0.546 (std: 0.002)\n",
      "Parameters: {'n_estimators': 800, 'min_samples_split': 30, 'min_samples_leaf': 7, 'max_features': 'sqrt', 'max_depth': 30, 'bootstrap': False}\n",
      "\n",
      "Model with rank: 45\n",
      "Mean validation score: 0.546 (std: 0.000)\n",
      "Parameters: {'n_estimators': 1400, 'min_samples_split': 4, 'min_samples_leaf': 10, 'max_features': 'sqrt', 'max_depth': 80, 'bootstrap': False}\n",
      "\n",
      "Model with rank: 46\n",
      "Mean validation score: 0.545 (std: 0.001)\n",
      "Parameters: {'n_estimators': 1000, 'min_samples_split': 15, 'min_samples_leaf': 7, 'max_features': 'sqrt', 'max_depth': 20, 'bootstrap': True}\n",
      "\n",
      "Model with rank: 47\n",
      "Mean validation score: 0.545 (std: 0.001)\n",
      "Parameters: {'n_estimators': 400, 'min_samples_split': 30, 'min_samples_leaf': 7, 'max_features': 'sqrt', 'max_depth': 90, 'bootstrap': False}\n",
      "\n",
      "Model with rank: 48\n",
      "Mean validation score: 0.545 (std: 0.001)\n",
      "Parameters: {'n_estimators': 600, 'min_samples_split': 4, 'min_samples_leaf': 10, 'max_features': 'sqrt', 'max_depth': 60, 'bootstrap': False}\n",
      "\n",
      "Model with rank: 49\n",
      "Mean validation score: 0.545 (std: 0.001)\n",
      "Parameters: {'n_estimators': 1800, 'min_samples_split': 15, 'min_samples_leaf': 7, 'max_features': 'sqrt', 'max_depth': 60, 'bootstrap': True}\n",
      "\n",
      "Model with rank: 50\n",
      "Mean validation score: 0.545 (std: 0.002)\n",
      "Parameters: {'n_estimators': 2000, 'min_samples_split': 4, 'min_samples_leaf': 7, 'max_features': 'sqrt', 'max_depth': 20, 'bootstrap': True}\n",
      "\n",
      "Model with rank: 51\n",
      "Mean validation score: 0.545 (std: 0.001)\n",
      "Parameters: {'n_estimators': 800, 'min_samples_split': 15, 'min_samples_leaf': 10, 'max_features': 'sqrt', 'max_depth': 70, 'bootstrap': False}\n",
      "\n",
      "Model with rank: 52\n",
      "Mean validation score: 0.545 (std: 0.001)\n",
      "Parameters: {'n_estimators': 800, 'min_samples_split': 30, 'min_samples_leaf': 7, 'max_features': 'sqrt', 'max_depth': 20, 'bootstrap': False}\n",
      "\n",
      "Model with rank: 53\n",
      "Mean validation score: 0.544 (std: 0.000)\n",
      "Parameters: {'n_estimators': 1200, 'min_samples_split': 15, 'min_samples_leaf': 7, 'max_features': 'sqrt', 'max_depth': 20, 'bootstrap': True}\n",
      "\n",
      "Model with rank: 54\n",
      "Mean validation score: 0.544 (std: 0.000)\n",
      "Parameters: {'n_estimators': 2000, 'min_samples_split': 15, 'min_samples_leaf': 10, 'max_features': 'sqrt', 'max_depth': None, 'bootstrap': False}\n",
      "\n",
      "Model with rank: 55\n",
      "Mean validation score: 0.544 (std: 0.001)\n",
      "Parameters: {'n_estimators': 1200, 'min_samples_split': 4, 'min_samples_leaf': 10, 'max_features': 'sqrt', 'max_depth': 70, 'bootstrap': False}\n",
      "\n",
      "Model with rank: 56\n",
      "Mean validation score: 0.543 (std: 0.003)\n",
      "Parameters: {'n_estimators': 800, 'min_samples_split': 15, 'min_samples_leaf': 10, 'max_features': 'sqrt', 'max_depth': 30, 'bootstrap': False}\n",
      "\n",
      "Model with rank: 57\n",
      "Mean validation score: 0.543 (std: 0.002)\n",
      "Parameters: {'n_estimators': 800, 'min_samples_split': 4, 'min_samples_leaf': 10, 'max_features': 'sqrt', 'max_depth': 20, 'bootstrap': False}\n",
      "\n",
      "Model with rank: 58\n",
      "Mean validation score: 0.543 (std: 0.001)\n",
      "Parameters: {'n_estimators': 600, 'min_samples_split': 4, 'min_samples_leaf': 10, 'max_features': 'sqrt', 'max_depth': 30, 'bootstrap': False}\n",
      "\n",
      "Model with rank: 59\n",
      "Mean validation score: 0.541 (std: 0.001)\n",
      "Parameters: {'n_estimators': 1200, 'min_samples_split': 30, 'min_samples_leaf': 10, 'max_features': 'sqrt', 'max_depth': 20, 'bootstrap': False}\n",
      "\n",
      "Model with rank: 60\n",
      "Mean validation score: 0.539 (std: 0.003)\n",
      "Parameters: {'n_estimators': 400, 'min_samples_split': 30, 'min_samples_leaf': 10, 'max_features': 'sqrt', 'max_depth': 80, 'bootstrap': False}\n",
      "\n",
      "Model with rank: 61\n",
      "Mean validation score: 0.539 (std: 0.003)\n",
      "Parameters: {'n_estimators': 1400, 'min_samples_split': 30, 'min_samples_leaf': 7, 'max_features': 'sqrt', 'max_depth': 80, 'bootstrap': True}\n",
      "\n",
      "Model with rank: 62\n",
      "Mean validation score: 0.538 (std: 0.001)\n",
      "Parameters: {'n_estimators': 600, 'min_samples_split': 30, 'min_samples_leaf': 7, 'max_features': 'sqrt', 'max_depth': 60, 'bootstrap': True}\n",
      "\n",
      "Model with rank: 63\n",
      "Mean validation score: 0.538 (std: 0.002)\n",
      "Parameters: {'n_estimators': 2000, 'min_samples_split': 15, 'min_samples_leaf': 3, 'max_features': 'sqrt', 'max_depth': 10, 'bootstrap': True}\n",
      "\n",
      "Model with rank: 64\n",
      "Mean validation score: 0.536 (std: 0.003)\n",
      "Parameters: {'n_estimators': 800, 'min_samples_split': 4, 'min_samples_leaf': 10, 'max_features': 'sqrt', 'max_depth': 90, 'bootstrap': True}\n",
      "\n",
      "Model with rank: 65\n",
      "Mean validation score: 0.536 (std: 0.002)\n",
      "Parameters: {'n_estimators': 2000, 'min_samples_split': 30, 'min_samples_leaf': 3, 'max_features': 'sqrt', 'max_depth': 10, 'bootstrap': False}\n",
      "\n",
      "Model with rank: 66\n",
      "Mean validation score: 0.536 (std: 0.002)\n",
      "Parameters: {'n_estimators': 1400, 'min_samples_split': 15, 'min_samples_leaf': 10, 'max_features': 'sqrt', 'max_depth': 80, 'bootstrap': True}\n",
      "\n",
      "Model with rank: 67\n",
      "Mean validation score: 0.536 (std: 0.001)\n",
      "Parameters: {'n_estimators': 1800, 'min_samples_split': 4, 'min_samples_leaf': 10, 'max_features': 'sqrt', 'max_depth': 90, 'bootstrap': True}\n",
      "\n",
      "Model with rank: 68\n",
      "Mean validation score: 0.535 (std: 0.001)\n",
      "Parameters: {'n_estimators': 1200, 'min_samples_split': 15, 'min_samples_leaf': 7, 'max_features': 'sqrt', 'max_depth': 10, 'bootstrap': False}\n",
      "\n",
      "Model with rank: 69\n",
      "Mean validation score: 0.534 (std: 0.000)\n",
      "Parameters: {'n_estimators': 1600, 'min_samples_split': 15, 'min_samples_leaf': 7, 'max_features': 'sqrt', 'max_depth': 10, 'bootstrap': False}\n",
      "\n",
      "Model with rank: 70\n",
      "Mean validation score: 0.534 (std: 0.002)\n",
      "Parameters: {'n_estimators': 1600, 'min_samples_split': 4, 'min_samples_leaf': 10, 'max_features': 'sqrt', 'max_depth': 80, 'bootstrap': True}\n",
      "\n",
      "Model with rank: 71\n",
      "Mean validation score: 0.533 (std: 0.003)\n",
      "Parameters: {'n_estimators': 800, 'min_samples_split': 30, 'min_samples_leaf': 10, 'max_features': 'sqrt', 'max_depth': 50, 'bootstrap': True}\n",
      "\n",
      "Model with rank: 72\n",
      "Mean validation score: 0.533 (std: 0.004)\n",
      "Parameters: {'n_estimators': 800, 'min_samples_split': 30, 'min_samples_leaf': 10, 'max_features': 'sqrt', 'max_depth': 100, 'bootstrap': True}\n",
      "\n",
      "Model with rank: 73\n",
      "Mean validation score: 0.532 (std: 0.000)\n",
      "Parameters: {'n_estimators': 1000, 'min_samples_split': 15, 'min_samples_leaf': 7, 'max_features': 'sqrt', 'max_depth': 10, 'bootstrap': True}\n",
      "\n",
      "Model with rank: 74\n",
      "Mean validation score: 0.532 (std: 0.001)\n",
      "Parameters: {'n_estimators': 400, 'min_samples_split': 30, 'min_samples_leaf': 10, 'max_features': 'sqrt', 'max_depth': 90, 'bootstrap': True}\n",
      "\n",
      "Model with rank: 75\n",
      "Mean validation score: 0.527 (std: 0.003)\n",
      "Parameters: {'n_estimators': 400, 'min_samples_split': 4, 'min_samples_leaf': 10, 'max_features': 'sqrt', 'max_depth': 10, 'bootstrap': True}\n",
      "\n",
      "Model with rank: 76\n",
      "Mean validation score: 0.527 (std: 0.010)\n",
      "Parameters: {'n_estimators': 1800, 'min_samples_split': 15, 'min_samples_leaf': 10, 'max_features': 'auto', 'max_depth': 10, 'bootstrap': False}\n",
      "\n",
      "Model with rank: 76\n",
      "Mean validation score: 0.527 (std: 0.010)\n",
      "Parameters: {'n_estimators': 1800, 'min_samples_split': 4, 'min_samples_leaf': 10, 'max_features': 'auto', 'max_depth': 10, 'bootstrap': False}\n",
      "\n",
      "Model with rank: 78\n",
      "Mean validation score: 0.526 (std: 0.002)\n",
      "Parameters: {'n_estimators': 1000, 'min_samples_split': 30, 'min_samples_leaf': 7, 'max_features': 'sqrt', 'max_depth': 10, 'bootstrap': True}\n",
      "\n",
      "Model with rank: 79\n",
      "Mean validation score: 0.525 (std: 0.003)\n",
      "Parameters: {'n_estimators': 1600, 'min_samples_split': 4, 'min_samples_leaf': 10, 'max_features': 'sqrt', 'max_depth': 10, 'bootstrap': True}\n",
      "\n",
      "Model with rank: 80\n",
      "Mean validation score: 0.513 (std: 0.014)\n",
      "Parameters: {'n_estimators': 2000, 'min_samples_split': 30, 'min_samples_leaf': 10, 'max_features': 'auto', 'max_depth': 100, 'bootstrap': False}\n",
      "\n",
      "Model with rank: 81\n",
      "Mean validation score: 0.513 (std: 0.014)\n",
      "Parameters: {'n_estimators': 1000, 'min_samples_split': 30, 'min_samples_leaf': 10, 'max_features': 'auto', 'max_depth': 50, 'bootstrap': False}\n",
      "\n",
      "Model with rank: 81\n",
      "Mean validation score: 0.513 (std: 0.014)\n",
      "Parameters: {'n_estimators': 1000, 'min_samples_split': 30, 'min_samples_leaf': 10, 'max_features': 'auto', 'max_depth': 80, 'bootstrap': False}\n",
      "\n",
      "Model with rank: 83\n",
      "Mean validation score: 0.504 (std: 0.013)\n",
      "Parameters: {'n_estimators': 1800, 'min_samples_split': 30, 'min_samples_leaf': 7, 'max_features': 'auto', 'max_depth': 110, 'bootstrap': False}\n",
      "\n",
      "Model with rank: 84\n",
      "Mean validation score: 0.504 (std: 0.013)\n",
      "Parameters: {'n_estimators': 2000, 'min_samples_split': 30, 'min_samples_leaf': 7, 'max_features': 'auto', 'max_depth': 50, 'bootstrap': False}\n",
      "\n",
      "Model with rank: 84\n",
      "Mean validation score: 0.504 (std: 0.013)\n",
      "Parameters: {'n_estimators': 2000, 'min_samples_split': 30, 'min_samples_leaf': 7, 'max_features': 'auto', 'max_depth': 60, 'bootstrap': False}\n",
      "\n",
      "Model with rank: 86\n",
      "Mean validation score: 0.504 (std: 0.013)\n",
      "Parameters: {'n_estimators': 1200, 'min_samples_split': 30, 'min_samples_leaf': 7, 'max_features': 'auto', 'max_depth': None, 'bootstrap': False}\n",
      "\n",
      "Model with rank: 87\n",
      "Mean validation score: 0.504 (std: 0.013)\n",
      "Parameters: {'n_estimators': 800, 'min_samples_split': 30, 'min_samples_leaf': 7, 'max_features': 'auto', 'max_depth': None, 'bootstrap': False}\n",
      "\n",
      "Model with rank: 88\n",
      "Mean validation score: 0.504 (std: 0.013)\n",
      "Parameters: {'n_estimators': 400, 'min_samples_split': 30, 'min_samples_leaf': 7, 'max_features': 'auto', 'max_depth': 40, 'bootstrap': False}\n",
      "\n",
      "Model with rank: 89\n",
      "Mean validation score: 0.500 (std: 0.012)\n",
      "Parameters: {'n_estimators': 2000, 'min_samples_split': 4, 'min_samples_leaf': 10, 'max_features': 'auto', 'max_depth': 30, 'bootstrap': False}\n",
      "\n",
      "Model with rank: 89\n",
      "Mean validation score: 0.500 (std: 0.012)\n",
      "Parameters: {'n_estimators': 2000, 'min_samples_split': 4, 'min_samples_leaf': 10, 'max_features': 'auto', 'max_depth': 60, 'bootstrap': False}\n",
      "\n",
      "Model with rank: 91\n",
      "Mean validation score: 0.500 (std: 0.012)\n",
      "Parameters: {'n_estimators': 1800, 'min_samples_split': 4, 'min_samples_leaf': 10, 'max_features': 'auto', 'max_depth': 50, 'bootstrap': False}\n",
      "\n",
      "Model with rank: 92\n",
      "Mean validation score: 0.500 (std: 0.012)\n",
      "Parameters: {'n_estimators': 1000, 'min_samples_split': 15, 'min_samples_leaf': 10, 'max_features': 'auto', 'max_depth': 30, 'bootstrap': False}\n",
      "\n",
      "Model with rank: 93\n",
      "Mean validation score: 0.500 (std: 0.012)\n",
      "Parameters: {'n_estimators': 200, 'min_samples_split': 15, 'min_samples_leaf': 10, 'max_features': 'auto', 'max_depth': 100, 'bootstrap': False}\n",
      "\n",
      "Model with rank: 94\n",
      "Mean validation score: 0.480 (std: 0.013)\n",
      "Parameters: {'n_estimators': 1000, 'min_samples_split': 4, 'min_samples_leaf': 3, 'max_features': 'auto', 'max_depth': 10, 'bootstrap': False}\n",
      "\n",
      "Model with rank: 95\n",
      "Mean validation score: 0.455 (std: 0.011)\n",
      "Parameters: {'n_estimators': 600, 'min_samples_split': 15, 'min_samples_leaf': 7, 'max_features': 'auto', 'max_depth': 70, 'bootstrap': False}\n",
      "\n",
      "Model with rank: 96\n",
      "Mean validation score: 0.455 (std: 0.011)\n",
      "Parameters: {'n_estimators': 200, 'min_samples_split': 15, 'min_samples_leaf': 7, 'max_features': 'auto', 'max_depth': 90, 'bootstrap': False}\n",
      "\n",
      "Model with rank: 97\n",
      "Mean validation score: 0.404 (std: 0.018)\n",
      "Parameters: {'n_estimators': 400, 'min_samples_split': 15, 'min_samples_leaf': 3, 'max_features': 'auto', 'max_depth': 90, 'bootstrap': False}\n",
      "\n",
      "Model with rank: 98\n",
      "Mean validation score: 0.311 (std: 0.025)\n",
      "Parameters: {'n_estimators': 1800, 'min_samples_split': 4, 'min_samples_leaf': 3, 'max_features': 'auto', 'max_depth': 20, 'bootstrap': False}\n",
      "\n",
      "Model with rank: 99\n",
      "Mean validation score: 0.307 (std: 0.021)\n",
      "Parameters: {'n_estimators': 1000, 'min_samples_split': 4, 'min_samples_leaf': 3, 'max_features': 'auto', 'max_depth': 50, 'bootstrap': False}\n",
      "\n",
      "Model with rank: 100\n",
      "Mean validation score: 0.307 (std: 0.021)\n",
      "Parameters: {'n_estimators': 1400, 'min_samples_split': 4, 'min_samples_leaf': 3, 'max_features': 'auto', 'max_depth': 40, 'bootstrap': False}\n",
      "\n"
     ]
    }
   ],
   "source": [
    "report(rf_random.cv_results_,100)"
   ]
  },
  {
   "cell_type": "code",
   "execution_count": 94,
   "metadata": {},
   "outputs": [
    {
     "data": {
      "text/plain": [
       "RandomForestRegressor(max_depth=70, min_samples_leaf=10, min_samples_split=30,\n",
       "                      n_estimators=400)"
      ]
     },
     "execution_count": 94,
     "metadata": {},
     "output_type": "execute_result"
    }
   ],
   "source": [
    "rf = RandomForestRegressor(n_estimators= 400, min_samples_split= 30, min_samples_leaf= 10, max_features= 'auto', max_depth= 70, bootstrap= True)\n",
    "rf.fit(x_train, y_train)"
   ]
  },
  {
   "cell_type": "code",
   "execution_count": 96,
   "metadata": {},
   "outputs": [],
   "source": [
    "rfpred=rf.predict(x_test)"
   ]
  },
  {
   "cell_type": "code",
   "execution_count": 97,
   "metadata": {},
   "outputs": [
    {
     "data": {
      "text/plain": [
       "728.1156404950642"
      ]
     },
     "execution_count": 97,
     "metadata": {},
     "output_type": "execute_result"
    }
   ],
   "source": [
    "mae=mean_absolute_error(y_test, rfpred)\n",
    "mae"
   ]
  },
  {
   "cell_type": "code",
   "execution_count": 98,
   "metadata": {},
   "outputs": [
    {
     "data": {
      "text/plain": [
       "0.5614457831325301"
      ]
     },
     "execution_count": 98,
     "metadata": {},
     "output_type": "execute_result"
    }
   ],
   "source": [
    "1-(728/1660)"
   ]
  },
  {
   "cell_type": "code",
   "execution_count": null,
   "metadata": {},
   "outputs": [],
   "source": [
    "# rf = RandomForestRegressor(n_estimators= 400, min_samples_split= 30, min_samples_leaf= 10, max_features= 'auto', max_depth= 70, bootstrap= True)\n",
    "# Is the best model"
   ]
  }
 ],
 "metadata": {
  "kernelspec": {
   "display_name": "Python 3",
   "language": "python",
   "name": "python3"
  },
  "language_info": {
   "codemirror_mode": {
    "name": "ipython",
    "version": 3
   },
   "file_extension": ".py",
   "mimetype": "text/x-python",
   "name": "python",
   "nbconvert_exporter": "python",
   "pygments_lexer": "ipython3",
   "version": "3.7.3"
  }
 },
 "nbformat": 4,
 "nbformat_minor": 2
}
